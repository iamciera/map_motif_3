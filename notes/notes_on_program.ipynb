{
 "cells": [
  {
   "cell_type": "code",
   "execution_count": 89,
   "metadata": {
    "collapsed": true
   },
   "outputs": [],
   "source": [
    "#!/usr/bin/env python\n",
    "#map_motif.py\n",
    "#Ciera Martinez\n",
    "\n",
    "import re\n",
    "import pandas as pd\n",
    "import numpy as np\n",
    "import os, sys\n",
    "from Bio import motifs\n",
    "from Bio import SeqIO \n",
    "from Bio.Seq import Seq\n",
    "from Bio.SeqRecord import SeqRecord\n",
    "from Bio.Alphabet import IUPAC, generic_dna, generic_protein\n",
    "from collections import defaultdict"
   ]
  },
  {
   "cell_type": "code",
   "execution_count": 90,
   "metadata": {
    "collapsed": false
   },
   "outputs": [
    {
     "name": "stdout",
     "output_type": "stream",
     "text": [
      "[SeqRecord(seq=Seq('GATGTGGCACAGTGGGGA--GCCAAACAGTCACAAATTGGGTAAAGTAATGCAA...---', SingleLetterAlphabet()), id='VT11157|1|MEMB002B|-|3291', name='VT11157|1|MEMB002B|-|3291', description='VT11157|1|MEMB002B|-|3291', dbxrefs=[]), SeqRecord(seq=Seq('GATGTGGCACAGTGGGGA--GCCACACAGTCACAAATTGGGTGAAGTAATGCAA...GT-', SingleLetterAlphabet()), id='VT11157|1|MEMB004A|+|3518', name='VT11157|1|MEMB004A|+|3518', description='VT11157|1|MEMB004A|+|3518', dbxrefs=[]), SeqRecord(seq=Seq('------------------------------------------------------...GT-', SingleLetterAlphabet()), id='VT11157|1|MEMB007B|-|3054', name='VT11157|1|MEMB007B|-|3054', description='VT11157|1|MEMB007B|-|3054', dbxrefs=[]), SeqRecord(seq=Seq('GATGTGGCACAGTGGGGA--ACCATACAGTCACAAATTGGGTAAAGTAATGCAA...GT-', SingleLetterAlphabet()), id='VT11157|1|MEMB002C|-|3670', name='VT11157|1|MEMB002C|-|3670', description='VT11157|1|MEMB002C|-|3670', dbxrefs=[]), SeqRecord(seq=Seq('------------------------------------------------------...GT-', SingleLetterAlphabet()), id='VT11157|1|MEMB003C|-|2926', name='VT11157|1|MEMB003C|-|2926', description='VT11157|1|MEMB003C|-|2926', dbxrefs=[]), SeqRecord(seq=Seq('GATGTGGCACAGTGGGGA--ACCATACAGTCACAAATTGGGTAAAGTAATGCAA...GT-', SingleLetterAlphabet()), id='VT11157|1|MEMB002A|+|3695', name='VT11157|1|MEMB002A|+|3695', description='VT11157|1|MEMB002A|+|3695', dbxrefs=[]), SeqRecord(seq=Seq('------------------------------------------------------...GTT', SingleLetterAlphabet()), id='VT11157|1|MEMB002F|-|3077', name='VT11157|1|MEMB002F|-|3077', description='VT11157|1|MEMB002F|-|3077', dbxrefs=[]), SeqRecord(seq=Seq('GATGTGGCACAGTGGGGA--GGCGTACAGTCACAAATTGGCTAAAATAATGCAA...GT-', SingleLetterAlphabet()), id='VT11157|1|MEMB007D|-|3127', name='VT11157|1|MEMB007D|-|3127', description='VT11157|1|MEMB007D|-|3127', dbxrefs=[]), SeqRecord(seq=Seq('------------------------------------------------------...GT-', SingleLetterAlphabet()), id='VT11157|1|MEMB007C|+|2823', name='VT11157|1|MEMB007C|+|2823', description='VT11157|1|MEMB007C|+|2823', dbxrefs=[]), SeqRecord(seq=Seq('------------------------------------------------------...GT-', SingleLetterAlphabet()), id='VT11157|1|MEMB003B|+|2824', name='VT11157|1|MEMB003B|+|2824', description='VT11157|1|MEMB003B|+|2824', dbxrefs=[]), SeqRecord(seq=Seq('------------------------------------------------------...GTT', SingleLetterAlphabet()), id='VT11157|1|MEMB006B|+|2530', name='VT11157|1|MEMB006B|+|2530', description='VT11157|1|MEMB006B|+|2530', dbxrefs=[]), SeqRecord(seq=Seq('------------------------------------------------------...GT-', SingleLetterAlphabet()), id='VT11157|1|MEMB003F|+|2621', name='VT11157|1|MEMB003F|+|2621', description='VT11157|1|MEMB003F|+|2621', dbxrefs=[]), SeqRecord(seq=Seq('------------------------------------------------------...GT-', SingleLetterAlphabet()), id='VT11157|1|MEMB002E|+|2591', name='VT11157|1|MEMB002E|+|2591', description='VT11157|1|MEMB002E|+|2591', dbxrefs=[]), SeqRecord(seq=Seq('------------------------------------------------------...GT-', SingleLetterAlphabet()), id='VT11157|1|MEMB002D|+|2900', name='VT11157|1|MEMB002D|+|2900', description='VT11157|1|MEMB002D|+|2900', dbxrefs=[]), SeqRecord(seq=Seq('------------------------------------------------------...GT-', SingleLetterAlphabet()), id='VT11157|1|MEMB005D|-|1680', name='VT11157|1|MEMB005D|-|1680', description='VT11157|1|MEMB005D|-|1680', dbxrefs=[]), SeqRecord(seq=Seq('GATGCGGCACAGTGGAAA---GCATACGGTCACAAATTGGCTAAAATAATTTAA...GT-', SingleLetterAlphabet()), id='VT11157|1|MEMB006A|-|3314', name='VT11157|1|MEMB006A|-|3314', description='VT11157|1|MEMB006A|-|3314', dbxrefs=[]), SeqRecord(seq=Seq('GATGTGGCACAGTGGGGA--AGCATACGGTCACAAATTGGATAAAATAATGCCA...GT-', SingleLetterAlphabet()), id='VT11157|1|dkik|-|3095', name='VT11157|1|dkik|-|3095', description='VT11157|1|dkik|-|3095', dbxrefs=[]), SeqRecord(seq=Seq('GATGTGGCACAGTGGGGA--------------AGCATTGGATAAAATAA-----...GT-', SingleLetterAlphabet()), id='VT11157|1|MEMB003A|-|3306', name='VT11157|1|MEMB003A|-|3306', description='VT11157|1|MEMB003A|-|3306', dbxrefs=[]), SeqRecord(seq=Seq('GATGTGGCACAGTGGGGA--------------AGCATTGGATAAAATAA-----...GT-', SingleLetterAlphabet()), id='VT11157|1|MEMB003D|-|2986', name='VT11157|1|MEMB003D|-|2986', description='VT11157|1|MEMB003D|-|2986', dbxrefs=[]), SeqRecord(seq=Seq('GATGTGGCATAGTGTGGGGATGCATATGGTTACAGCTAAAATAAAATAATGGAT...GT-', SingleLetterAlphabet()), id='VT11157|1|MEMB004E|-|3006', name='VT11157|1|MEMB004E|-|3006', description='VT11157|1|MEMB004E|-|3006', dbxrefs=[]), SeqRecord(seq=Seq('GATGTGGCACAGTGGGGAAGCATACAT----------------AAAAATTGCAA...GT-', SingleLetterAlphabet()), id='VT11157|1|MEMB004B|-|3292', name='VT11157|1|MEMB004B|-|3292', description='VT11157|1|MEMB004B|-|3292', dbxrefs=[]), SeqRecord(seq=Seq('------------------------------------------------------...GT-', SingleLetterAlphabet()), id='VT11157|1|MEMB005B|-|2491', name='VT11157|1|MEMB005B|-|2491', description='VT11157|1|MEMB005B|-|2491', dbxrefs=[]), SeqRecord(seq=Seq('GATGTGGCACAGTGGGAA---------------AGAATACATACAAAATTGCAA...---', SingleLetterAlphabet()), id='VT11157|1|MEMB006C|+|2840', name='VT11157|1|MEMB006C|+|2840', description='VT11157|1|MEMB006C|+|2840', dbxrefs=[]), SeqRecord(seq=Seq('------------------------------------------------------...GT-', SingleLetterAlphabet()), id='VT11157|1|MEMB008C|-|2631', name='VT11157|1|MEMB008C|-|2631', description='VT11157|1|MEMB008C|-|2631', dbxrefs=[])]\n",
      "TF name\tNone\n",
      "Matrix ID\tNone\n",
      "Matrix:\n",
      "        0      1      2      3\n",
      "A:   0.19   0.37   0.08   0.37\n",
      "C:   0.17   0.08   0.04   0.71\n",
      "G:   0.88   0.04   0.04   0.04\n",
      "T:   0.92   0.02   0.04   0.02\n",
      "\n",
      "\n",
      "\n"
     ]
    }
   ],
   "source": [
    "## read in alignment and motif \n",
    "alignment = list(SeqIO.parse(\"../../montium_data/4_alignments/align_outlier_rm_with_length_VT11157.fa\", \"fasta\"))\n",
    "motif = motifs.read(open(\"../data/Dmel_pwms/bcd_FlyReg.fm\"), \"pfm\")\n",
    "\n",
    "# Used later when marking output file\n",
    "alignment_file_name =  os.path.basename(sys.argv[1])\n",
    "motif_file_name =  os.path.basename(sys.argv[2])\n",
    "\n",
    "## print(alignment_file_name)\n",
    "## print(motif_file_name)\n",
    "\n",
    "print(alignment)\n",
    "print(motif)"
   ]
  },
  {
   "cell_type": "markdown",
   "metadata": {},
   "source": [
    "This part is doing ...."
   ]
  },
  {
   "cell_type": "code",
   "execution_count": 46,
   "metadata": {
    "collapsed": false
   },
   "outputs": [
    {
     "name": "stdout",
     "output_type": "stream",
     "text": [
      "[SeqRecord(seq=Seq('GATGTGGCACAGTGGGGAGCCAAACAGTCACAAATTGGGTAAAGTAATGCAATC...GTT', SingleLetterAlphabet()), id='VT11157|1|MEMB002B|-|3291', name='<unknown name>', description='<unknown description>', dbxrefs=[]), SeqRecord(seq=Seq('GATGTGGCACAGTGGGGAGCCACACAGTCACAAATTGGGTGAAGTAATGCAATC...TGT', SingleLetterAlphabet()), id='VT11157|1|MEMB004A|+|3518', name='<unknown name>', description='<unknown description>', dbxrefs=[]), SeqRecord(seq=Seq('TCACGTTTTTTCTCTGCCCCTTCCAGTTGCAGTCTTGTCAGTTTACCTTTTGAA...TGT', SingleLetterAlphabet()), id='VT11157|1|MEMB007B|-|3054', name='<unknown name>', description='<unknown description>', dbxrefs=[]), SeqRecord(seq=Seq('GATGTGGCACAGTGGGGAACCATACAGTCACAAATTGGGTAAAGTAATGCAATC...TGT', SingleLetterAlphabet()), id='VT11157|1|MEMB002C|-|3670', name='<unknown name>', description='<unknown description>', dbxrefs=[]), SeqRecord(seq=Seq('TATGCAGAGCTTTGTGCAGTTCTGACACATTTTAACAATTTATGAAGCGCTCAG...TGT', SingleLetterAlphabet()), id='VT11157|1|MEMB003C|-|2926', name='<unknown name>', description='<unknown description>', dbxrefs=[]), SeqRecord(seq=Seq('GATGTGGCACAGTGGGGAACCATACAGTCACAAATTGGGTAAAGTAATGCAATC...TGT', SingleLetterAlphabet()), id='VT11157|1|MEMB002A|+|3695', name='<unknown name>', description='<unknown description>', dbxrefs=[]), SeqRecord(seq=Seq('TTTTGCTCGCGTTTTTTCTAGCTTTTTGTGCCGAGCTTGGTGCAGTTCTGACAC...GTT', SingleLetterAlphabet()), id='VT11157|1|MEMB002F|-|3077', name='<unknown name>', description='<unknown description>', dbxrefs=[]), SeqRecord(seq=Seq('GATGTGGCACAGTGGGGAGGCGTACAGTCACAAATTGGCTAAAATAATGCAATC...TGT', SingleLetterAlphabet()), id='VT11157|1|MEMB007D|-|3127', name='<unknown name>', description='<unknown description>', dbxrefs=[]), SeqRecord(seq=Seq('CTTTCCTCTATGCTTTCCAGTTACAATAGATGTGTCAGCGTACCCTTTCATTAG...TGT', SingleLetterAlphabet()), id='VT11157|1|MEMB007C|+|2823', name='<unknown name>', description='<unknown description>', dbxrefs=[]), SeqRecord(seq=Seq('CATTTTATGCCGAGGTTTGTGCAGTTCTGACACATTTTAACAATTTATGAAGCG...TGT', SingleLetterAlphabet()), id='VT11157|1|MEMB003B|+|2824', name='<unknown name>', description='<unknown description>', dbxrefs=[]), SeqRecord(seq=Seq('CATTTTATGTCGAGGTTTGTGCAATTCTGACACATTTTAACAATTTATGAAGCG...GTT', SingleLetterAlphabet()), id='VT11157|1|MEMB006B|+|2530', name='<unknown name>', description='<unknown description>', dbxrefs=[]), SeqRecord(seq=Seq('CATTTTATGTCGAGGTTTGTGCAATTCTGACACATTTTAACAATTTATGAAGCG...TGT', SingleLetterAlphabet()), id='VT11157|1|MEMB003F|+|2621', name='<unknown name>', description='<unknown description>', dbxrefs=[]), SeqRecord(seq=Seq('CGTTTTATGCCGAGGTTTGTGCAATTCTGACACATTTTAACAATTTATGAAGCG...TGT', SingleLetterAlphabet()), id='VT11157|1|MEMB002E|+|2591', name='<unknown name>', description='<unknown description>', dbxrefs=[]), SeqRecord(seq=Seq('CATTTTATGCCGAGGTTTGTGCAATTCTGACACATTTTAACAATTTATGAAGCG...TGT', SingleLetterAlphabet()), id='VT11157|1|MEMB002D|+|2900', name='<unknown name>', description='<unknown description>', dbxrefs=[]), SeqRecord(seq=Seq('TACGATATAGTATAGTATAGTGTATAGTGTGTGTGTCCGCACATAACGGTATCC...TGT', SingleLetterAlphabet()), id='VT11157|1|MEMB005D|-|1680', name='<unknown name>', description='<unknown description>', dbxrefs=[]), SeqRecord(seq=Seq('GATGCGGCACAGTGGAAAGCATACGGTCACAAATTGGCTAAAATAATTTAATCG...TGT', SingleLetterAlphabet()), id='VT11157|1|MEMB006A|-|3314', name='<unknown name>', description='<unknown description>', dbxrefs=[]), SeqRecord(seq=Seq('GATGTGGCACAGTGGGGAAGCATACGGTCACAAATTGGATAAAATAATGCCATC...TGT', SingleLetterAlphabet()), id='VT11157|1|dkik|-|3095', name='<unknown name>', description='<unknown description>', dbxrefs=[]), SeqRecord(seq=Seq('GATGTGGCACAGTGGGGAAGCATTGGATAAAATAAAACATACGGTAGTTATAGT...TGT', SingleLetterAlphabet()), id='VT11157|1|MEMB003A|-|3306', name='<unknown name>', description='<unknown description>', dbxrefs=[]), SeqRecord(seq=Seq('GATGTGGCACAGTGGGGAAGCATTGGATAAAATAAAACATACGGTAGTTATAGT...TGT', SingleLetterAlphabet()), id='VT11157|1|MEMB003D|-|2986', name='<unknown name>', description='<unknown description>', dbxrefs=[]), SeqRecord(seq=Seq('GATGTGGCATAGTGTGGGGATGCATATGGTTACAGCTAAAATAAAATAATGGAT...TGT', SingleLetterAlphabet()), id='VT11157|1|MEMB004E|-|3006', name='<unknown name>', description='<unknown description>', dbxrefs=[]), SeqRecord(seq=Seq('GATGTGGCACAGTGGGGAAGCATACATAAAAATTGCAATCGTCTAATTAGGTTC...TGT', SingleLetterAlphabet()), id='VT11157|1|MEMB004B|-|3292', name='<unknown name>', description='<unknown description>', dbxrefs=[]), SeqRecord(seq=Seq('TATGCCGAGGTTTGTACAATTCTGACACATTTTAACAATTTATGAAGCGCTCAG...TGT', SingleLetterAlphabet()), id='VT11157|1|MEMB005B|-|2491', name='<unknown name>', description='<unknown description>', dbxrefs=[]), SeqRecord(seq=Seq('GATGTGGCACAGTGGGAAAGAATACATACAAAATTGCAATCGTCTAAATATGTT...ATA', SingleLetterAlphabet()), id='VT11157|1|MEMB006C|+|2840', name='<unknown name>', description='<unknown description>', dbxrefs=[]), SeqRecord(seq=Seq('CACTTTACGCCGAGGTTTGTGCAATTCTGACACATTTTAACAATTTATGAAGCG...TGT', SingleLetterAlphabet()), id='VT11157|1|MEMB008C|-|2631', name='<unknown name>', description='<unknown description>', dbxrefs=[])]\n"
     ]
    }
   ],
   "source": [
    "raw_sequences = []\n",
    "for record in alignment:\n",
    "    raw_sequences.append(SeqRecord(record.seq.ungap(\"-\"), id = record.id))\n",
    "\n",
    "print (raw_sequences)"
   ]
  },
  {
   "cell_type": "code",
   "execution_count": 93,
   "metadata": {
    "collapsed": true
   },
   "outputs": [],
   "source": [
    "#!/usr/bin/env python\n",
    "#map_motif.py\n",
    "#Ciera Martinez\n",
    "\n",
    "import re\n",
    "import pandas as pd\n",
    "import numpy as np\n",
    "import os, sys\n",
    "from Bio import motifs\n",
    "from Bio import SeqIO \n",
    "from Bio.Seq import Seq\n",
    "from Bio.SeqRecord import SeqRecord\n",
    "from Bio.Alphabet import IUPAC, generic_dna, generic_protein\n",
    "from collections import defaultdict"
   ]
  },
  {
   "cell_type": "code",
   "execution_count": 95,
   "metadata": {
    "collapsed": false
   },
   "outputs": [
    {
     "name": "stdout",
     "output_type": "stream",
     "text": [
      "ID: VT11157|1|MEMB004A|+|3518\n",
      "Name: VT11157|1|MEMB004A|+|3518\n",
      "Description: VT11157|1|MEMB004A|+|3518\n",
      "Number of features: 0\n",
      "Seq('GATGTGGCACAGTGGGGA--GCCACACAGTCACAAATTGGGTGAAGTAATGCAA...GT-', SingleLetterAlphabet())\n",
      "TF name\tNone\n",
      "Matrix ID\tNone\n",
      "Matrix:\n",
      "        0      1      2      3\n",
      "A:   0.19   0.37   0.08   0.37\n",
      "C:   0.17   0.08   0.04   0.71\n",
      "G:   0.88   0.04   0.04   0.04\n",
      "T:   0.92   0.02   0.04   0.02\n",
      "\n",
      "\n",
      "\n"
     ]
    }
   ],
   "source": [
    "## read in alignment and motif \n",
    "alignment = list(SeqIO.parse(\"../../montium_data/4_alignments/align_outlier_rm_with_length_VT11157.fa\", \"fasta\"))\n",
    "motif = motifs.read(open(\"../data/Dmel_pwms/bcd_FlyReg.fm\"), \"pfm\")\n",
    "\n",
    "# Used later when marking output file\n",
    "## alignment_file_name =  os.path.basename(sys.argv[1])\n",
    "## motif_file_name =  os.path.basename(sys.argv[2])\n",
    "\n",
    "## print(alignment_file_name)\n",
    "## print(motif_file_name)\n",
    "\n",
    "print(alignment[1])\n",
    "print(motif)"
   ]
  },
  {
   "cell_type": "code",
   "execution_count": 96,
   "metadata": {
    "collapsed": false
   },
   "outputs": [
    {
     "name": "stdout",
     "output_type": "stream",
     "text": [
      "GATGTGGCACAGTGGGGA--GCCAAACAGTCACAAATTGGGTAAAGTAATGCAATCGTCTAATTATGTCTAATACAGAGCTGACTATAT-CACAAAGGGATGCTAGAGTGAGAGTGAATTGGTTGATCATGTTATGAGAGAATCAGAGGGATTTGTCTTT-----------------------------------------------------------------------ATTTTTTGACCAGAACTTATCG---ATTTTGTGGGGC------------------------------------------------------TTCCATTGAAGATGGAAGAAACCGCGATTTAGAGTCTAGTGTATGAGTAGGCATGCCT------AAAGCTAAATTCTGGTTTGTCGATCGGAAAATCTTTAATAAAAAGTGGATGCCTTATTTTATAATAGCAAATTGCATACCTCAAAAGGACTCAAAAGTCTTTACTATACAATAGTTTACAAAAATGCAACCATATTATACAA------------------------------------------------------------------------------------------------GGATACC-----------------------------------------TTCACATTAGCAATTTTTGTATTTAAAAGCT---------------GATAATTTTTA-----------------------------------------------------------------------------------------------------------------------AAGATATTTTTGAACAAGC-TTTAAATTAAATTTTCTAGGAAAA----------------------GAACTTTGTCGATTAGTATTTTATTCGCAGTTTGATGTCGGACAACTGAATATAATTGGAT-------CCATAGTAAAATCTGACTCACAAGCACCACA-AAAAAGT--GCCCTGTTATAC--ACCCGTTAAGTTTCACTTTCCCTTA-CTTTTCTACATCATGTTTAAATATATTTTCCTTGCGCATTACAAATG-TTCAATACAC--GTTATTTCTTTGCCCTTTCCACTTG---CAGACTTGTCAGTTTACCTTTTGCATGCG----TTTTTTTTTTTTTTACCATTTTATGCCAAGCTTTGTGCAGTTCTGACACATTTTAAAAATTTATGAAGCGTTCAGATATCCCTATACCCCATTCAGCCGATCAGAGCTTTGACAACTAAATTCAAAGCAATTCATACATCAGCTGGTGGGGTCGCG--GCACACCAGAATTCACGCCAGTGATGAGATTCCCAGAGGT-----AGGTACTTGTGGG-------TTTTCAC----ACAAAT---------------------------------TA------------------------TAAC-TGGC-------ATTCAAGCTCTATGTGACTTG-------CTACGGAATTCCTTTG----------AATTTCACTTACAA---------CCTAACT---------------------------------------------------A-TA-GAATGATCGAATCTAATTCGCTCCCTGCTTTACGACTTCCTTAATATTATTTCCTTACTAACTAATTATAATATAATTATAATATTATGTCCTTACTAACTAAATATAATATTTCTATGT-----ATACAAGGTAAAA------TG------------------------GGAAATCGTCGA---GCTTTATATTATCGAAA-----ATTGCTCTAAAATGTCGAA--TTAAAAA----------------------------------TGTTGGAATTG------------A--------AATCCTTAGATTTCTG----TCTGTGGAATCGATGATAATTAAAGTTGGGA-ATTAAAATAGATTGTACCTAG----------------------------GC------AAGGAT----------------------------------------------------------------------------------------------------------AAAGTGGCTCAAGCTACATATGTAC------TTTTGTACCCA-GCAG--------GTACCTACATATGTATCACTTGTTCTCAGAAAGCTGCCCACCTGGCTTTTCACCTGTTTGGCATTGTGCGTGTGTCAAAGTGCGTGTTCGGTGTCGGCGACATTTGTATAGTACGATATGGCATAGTAC--AGTA------------------TGAAAGTGTGTGTCCGCATATAACGGTATCCGAGTCCGTGTCAGTTTCCCTGGCATTTGTCAGTTGCGCTTTGATAATTTCATGTTGTCCCAGTGGCCCCATGTGCGATTCAATAGAGAGTCTCTAGTTTATTCGCCTCAACTTCACCGCGGGATAAGT--T----TGATGGTTGGTTCGTTTCACTGGCTTGGGC----CCGGGCCTGGTTGGGTTGGG-TCAATTTAGCGGC---CTGGC--------AGCAGAAATCGCCAGG-TCTGCGAGTGATGAAAGGAGCGCGGAATAGTTTTATTTAT-TGTTCAACCTCAGGAGGTCAG-TTCGTTGATCCATAACGCGTTACTTA-TGGCATTGCAAA---GTCGAATAGTC------------------------GATAGA--CTTAA-T---TGCCTTTCTGAA------A----------TTCAAG----------------------ATAT---CGTAGAGACGCAA-----------------------TAGATATTTGGCCGA--G-AGTGCCGATTAGGTTATG-----------------------------------TCATATTAGTAGT-----------------------------------------------------------------------------------------------------------------------------------------------------ATTCCTATTGG------------------AGG---AG-----TTTTTATTGGAACAA------------------------------------------------------------------------------------------------------------AATTT------GAAGCCAACTAG-----------------------------------TGCAAATATTAAGGA---------AGGATTTTCAGATGTTTTCTTAAACTTAATGGAAATGCATATTATTA----CTTTCCATGTTAA-------ACATTATTCAACTTACTGATCA---------A----------------ACACGAGGCGATAT----TTATCGGTTGCAACTGACTTGTTGTTTACAATA---------------------------------T------------------------GTTTGTTAAAGGTTTTTTTTTATTAAAAGGTAATGTAATTCTCACACTAAATAATTTAAG-------------------------------------------------------ATTGTTTCTTTCCATTTCGAAA---CTAGCTAGAT--TGGGTGTTACAAA----------------------------TAATTTTT-------TAAAATGTAAT----------------------------------------ATATAAGTCCTATATTTCAA-----------------------------------------------------------------------------AAACGAA----------------------------ATAGCACTCCAA----TCGACA------------------AAATTCAGCAATATAG--------------GAAAAACA--------------------------------------------------------CAAAATATTTAATGTGAAATCGGTCCGC----------------------------------------------------------------------------AATTTTAAAAATT------------AAATTA---------ATTAAAATTAA-----------------------AATTGAAA-------ATT--ATAGAAAT-------------------------ACCTAGGAAGAAAAGGTGAAAAGAACTTAAGCGCGCAT-------------------CTTCCTAATGCTCTTTCTCCTAAGCTTT-------------------------------------------------ACCTTTGATCGACTGAAAAAATAAAATA------------------------ATATATTCTAAAAA---TGTAGAAATTCAGCCGGGACTCAAACTTACCATTTGCCGTTCAATATCCTTTTCTAGACATCTGAGA----CGGGTGCAAGAGTGATG-------CTTCCTTCTCCCCAAACTTATAAAATT-AG-------------------------------------------------------------------------------GGTATTACCCAAAAATATATTTATAGCTTCAAA-T-ATT--AAATTAAA------------AGGAGCCGTCAAAATAAATATTAACCTGG-AGTCT--GACATCCAATGACAACTCTGAGTCAACGACACACGGTATCAAAGC---TTTTGGCACTGAAACTCAACCCAGGGA-ATAAAG---GCTGAGATACTTTTGAACCG-AAACATT----------AACGAAACG--------------------AAACGAAGTGCATAACAGCCGCCAACAAACATTCTCAGCCATCGACATTTTTTTGAAGTTGTATAAGTAAGTGTATATT----TTTTCG-TTTTTGTCTTTGCGTTAATTTATAGTCACTGATTGGGGCGTTATTCTTATTGATCCAGGCCATAAATTAAGAGAACCCCTGACTTGCCACA----TACATTACCGACATTTTAGCGTTTGATTTGTTATTTATCATACGAG--------CGTCAGAGCGAAAGAGACGCCGCCAGCGACCTGGGCAGCGGGAGCGTAAGAGAGGGCGCGAGCCCAAT--GACGATGGACGAATCTCGTCGCATCTGATCGGATCTCGGCTTCAGGCTTACCTGTAAAACTAGTTTCAATCTTTTTCTC-CAACGTTTTCGTTCTTCGCTTTTAGCGCTCGGCTT--GTTTTGTA-TTTTTTCTCGATTTTTTAATGATGAAATATACATTTTGAGTTTAATATATCAAACCGAATGGCGGGCAGGCGAATGTT------------------------------------------------------------------------------------------------------------------------------------------------------------------------------------------------------------------------------------------------------------------\n"
     ]
    }
   ],
   "source": [
    "print(alignment[0].seq)"
   ]
  },
  {
   "cell_type": "code",
   "execution_count": 97,
   "metadata": {
    "collapsed": false
   },
   "outputs": [
    {
     "name": "stdout",
     "output_type": "stream",
     "text": [
      "<generator object parse at 0x1068740f8>\n"
     ]
    }
   ],
   "source": [
    "print(str(SeqIO.parse(\"exampleAlignment/ludwig_eve-striped-2.fasta\", \"fasta\")))"
   ]
  },
  {
   "cell_type": "code",
   "execution_count": 98,
   "metadata": {
    "collapsed": false
   },
   "outputs": [
    {
     "name": "stdout",
     "output_type": "stream",
     "text": [
      "[SeqRecord(seq=Seq('GATGTGGCACAGTGGGGAGCCAAACAGTCACAAATTGGGTAAAGTAATGCAATC...GTT', SingleLetterAlphabet()), id='VT11157|1|MEMB002B|-|3291', name='<unknown name>', description='<unknown description>', dbxrefs=[]), SeqRecord(seq=Seq('GATGTGGCACAGTGGGGAGCCACACAGTCACAAATTGGGTGAAGTAATGCAATC...TGT', SingleLetterAlphabet()), id='VT11157|1|MEMB004A|+|3518', name='<unknown name>', description='<unknown description>', dbxrefs=[]), SeqRecord(seq=Seq('TCACGTTTTTTCTCTGCCCCTTCCAGTTGCAGTCTTGTCAGTTTACCTTTTGAA...TGT', SingleLetterAlphabet()), id='VT11157|1|MEMB007B|-|3054', name='<unknown name>', description='<unknown description>', dbxrefs=[]), SeqRecord(seq=Seq('GATGTGGCACAGTGGGGAACCATACAGTCACAAATTGGGTAAAGTAATGCAATC...TGT', SingleLetterAlphabet()), id='VT11157|1|MEMB002C|-|3670', name='<unknown name>', description='<unknown description>', dbxrefs=[]), SeqRecord(seq=Seq('TATGCAGAGCTTTGTGCAGTTCTGACACATTTTAACAATTTATGAAGCGCTCAG...TGT', SingleLetterAlphabet()), id='VT11157|1|MEMB003C|-|2926', name='<unknown name>', description='<unknown description>', dbxrefs=[]), SeqRecord(seq=Seq('GATGTGGCACAGTGGGGAACCATACAGTCACAAATTGGGTAAAGTAATGCAATC...TGT', SingleLetterAlphabet()), id='VT11157|1|MEMB002A|+|3695', name='<unknown name>', description='<unknown description>', dbxrefs=[]), SeqRecord(seq=Seq('TTTTGCTCGCGTTTTTTCTAGCTTTTTGTGCCGAGCTTGGTGCAGTTCTGACAC...GTT', SingleLetterAlphabet()), id='VT11157|1|MEMB002F|-|3077', name='<unknown name>', description='<unknown description>', dbxrefs=[]), SeqRecord(seq=Seq('GATGTGGCACAGTGGGGAGGCGTACAGTCACAAATTGGCTAAAATAATGCAATC...TGT', SingleLetterAlphabet()), id='VT11157|1|MEMB007D|-|3127', name='<unknown name>', description='<unknown description>', dbxrefs=[]), SeqRecord(seq=Seq('CTTTCCTCTATGCTTTCCAGTTACAATAGATGTGTCAGCGTACCCTTTCATTAG...TGT', SingleLetterAlphabet()), id='VT11157|1|MEMB007C|+|2823', name='<unknown name>', description='<unknown description>', dbxrefs=[]), SeqRecord(seq=Seq('CATTTTATGCCGAGGTTTGTGCAGTTCTGACACATTTTAACAATTTATGAAGCG...TGT', SingleLetterAlphabet()), id='VT11157|1|MEMB003B|+|2824', name='<unknown name>', description='<unknown description>', dbxrefs=[]), SeqRecord(seq=Seq('CATTTTATGTCGAGGTTTGTGCAATTCTGACACATTTTAACAATTTATGAAGCG...GTT', SingleLetterAlphabet()), id='VT11157|1|MEMB006B|+|2530', name='<unknown name>', description='<unknown description>', dbxrefs=[]), SeqRecord(seq=Seq('CATTTTATGTCGAGGTTTGTGCAATTCTGACACATTTTAACAATTTATGAAGCG...TGT', SingleLetterAlphabet()), id='VT11157|1|MEMB003F|+|2621', name='<unknown name>', description='<unknown description>', dbxrefs=[]), SeqRecord(seq=Seq('CGTTTTATGCCGAGGTTTGTGCAATTCTGACACATTTTAACAATTTATGAAGCG...TGT', SingleLetterAlphabet()), id='VT11157|1|MEMB002E|+|2591', name='<unknown name>', description='<unknown description>', dbxrefs=[]), SeqRecord(seq=Seq('CATTTTATGCCGAGGTTTGTGCAATTCTGACACATTTTAACAATTTATGAAGCG...TGT', SingleLetterAlphabet()), id='VT11157|1|MEMB002D|+|2900', name='<unknown name>', description='<unknown description>', dbxrefs=[]), SeqRecord(seq=Seq('TACGATATAGTATAGTATAGTGTATAGTGTGTGTGTCCGCACATAACGGTATCC...TGT', SingleLetterAlphabet()), id='VT11157|1|MEMB005D|-|1680', name='<unknown name>', description='<unknown description>', dbxrefs=[]), SeqRecord(seq=Seq('GATGCGGCACAGTGGAAAGCATACGGTCACAAATTGGCTAAAATAATTTAATCG...TGT', SingleLetterAlphabet()), id='VT11157|1|MEMB006A|-|3314', name='<unknown name>', description='<unknown description>', dbxrefs=[]), SeqRecord(seq=Seq('GATGTGGCACAGTGGGGAAGCATACGGTCACAAATTGGATAAAATAATGCCATC...TGT', SingleLetterAlphabet()), id='VT11157|1|dkik|-|3095', name='<unknown name>', description='<unknown description>', dbxrefs=[]), SeqRecord(seq=Seq('GATGTGGCACAGTGGGGAAGCATTGGATAAAATAAAACATACGGTAGTTATAGT...TGT', SingleLetterAlphabet()), id='VT11157|1|MEMB003A|-|3306', name='<unknown name>', description='<unknown description>', dbxrefs=[]), SeqRecord(seq=Seq('GATGTGGCACAGTGGGGAAGCATTGGATAAAATAAAACATACGGTAGTTATAGT...TGT', SingleLetterAlphabet()), id='VT11157|1|MEMB003D|-|2986', name='<unknown name>', description='<unknown description>', dbxrefs=[]), SeqRecord(seq=Seq('GATGTGGCATAGTGTGGGGATGCATATGGTTACAGCTAAAATAAAATAATGGAT...TGT', SingleLetterAlphabet()), id='VT11157|1|MEMB004E|-|3006', name='<unknown name>', description='<unknown description>', dbxrefs=[]), SeqRecord(seq=Seq('GATGTGGCACAGTGGGGAAGCATACATAAAAATTGCAATCGTCTAATTAGGTTC...TGT', SingleLetterAlphabet()), id='VT11157|1|MEMB004B|-|3292', name='<unknown name>', description='<unknown description>', dbxrefs=[]), SeqRecord(seq=Seq('TATGCCGAGGTTTGTACAATTCTGACACATTTTAACAATTTATGAAGCGCTCAG...TGT', SingleLetterAlphabet()), id='VT11157|1|MEMB005B|-|2491', name='<unknown name>', description='<unknown description>', dbxrefs=[]), SeqRecord(seq=Seq('GATGTGGCACAGTGGGAAAGAATACATACAAAATTGCAATCGTCTAAATATGTT...ATA', SingleLetterAlphabet()), id='VT11157|1|MEMB006C|+|2840', name='<unknown name>', description='<unknown description>', dbxrefs=[]), SeqRecord(seq=Seq('CACTTTACGCCGAGGTTTGTGCAATTCTGACACATTTTAACAATTTATGAAGCG...TGT', SingleLetterAlphabet()), id='VT11157|1|MEMB008C|-|2631', name='<unknown name>', description='<unknown description>', dbxrefs=[])]\n"
     ]
    }
   ],
   "source": [
    "raw_sequences = []\n",
    "for record in alignment:\n",
    "    raw_sequences.append(SeqRecord(record.seq.ungap(\"-\"), id = record.id))\n",
    "\n",
    "print (raw_sequences)"
   ]
  },
  {
   "cell_type": "code",
   "execution_count": 99,
   "metadata": {
    "collapsed": false
   },
   "outputs": [
    {
     "name": "stdout",
     "output_type": "stream",
     "text": [
      "-f\n"
     ]
    }
   ],
   "source": [
    "print (os.path.basename(sys.argv[1]))"
   ]
  },
  {
   "cell_type": "code",
   "execution_count": 100,
   "metadata": {
    "collapsed": false
   },
   "outputs": [
    {
     "name": "stdout",
     "output_type": "stream",
     "text": [
      "ID: VT11157|1|MEMB002B|-|3291\n",
      "Name: <unknown name>\n",
      "Description: <unknown description>\n",
      "Number of features: 0\n",
      "Seq('CACTTTACGCCGAGGTTTGTGCAATTCTGACACATTTTAACAATTTATGAAGCG...TGT', SingleLetterAlphabet())\n"
     ]
    }
   ],
   "source": [
    "print(SeqRecord(record.seq.ungap(\"-\"), id = alignment[0].id))"
   ]
  },
  {
   "cell_type": "code",
   "execution_count": 101,
   "metadata": {
    "collapsed": true
   },
   "outputs": [],
   "source": [
    "raw_sequences_2 = []\n",
    "for seq in raw_sequences:\n",
    "    raw_sequences_2.append(Seq(str(seq.seq), IUPAC.IUPACUnambiguousDNA()))"
   ]
  },
  {
   "cell_type": "code",
   "execution_count": 102,
   "metadata": {
    "collapsed": false
   },
   "outputs": [
    {
     "name": "stdout",
     "output_type": "stream",
     "text": [
      "[Seq('GATGTGGCACAGTGGGGAGCCAAACAGTCACAAATTGGGTAAAGTAATGCAATC...GTT', IUPACUnambiguousDNA()), Seq('GATGTGGCACAGTGGGGAGCCACACAGTCACAAATTGGGTGAAGTAATGCAATC...TGT', IUPACUnambiguousDNA()), Seq('TCACGTTTTTTCTCTGCCCCTTCCAGTTGCAGTCTTGTCAGTTTACCTTTTGAA...TGT', IUPACUnambiguousDNA()), Seq('GATGTGGCACAGTGGGGAACCATACAGTCACAAATTGGGTAAAGTAATGCAATC...TGT', IUPACUnambiguousDNA()), Seq('TATGCAGAGCTTTGTGCAGTTCTGACACATTTTAACAATTTATGAAGCGCTCAG...TGT', IUPACUnambiguousDNA()), Seq('GATGTGGCACAGTGGGGAACCATACAGTCACAAATTGGGTAAAGTAATGCAATC...TGT', IUPACUnambiguousDNA()), Seq('TTTTGCTCGCGTTTTTTCTAGCTTTTTGTGCCGAGCTTGGTGCAGTTCTGACAC...GTT', IUPACUnambiguousDNA()), Seq('GATGTGGCACAGTGGGGAGGCGTACAGTCACAAATTGGCTAAAATAATGCAATC...TGT', IUPACUnambiguousDNA()), Seq('CTTTCCTCTATGCTTTCCAGTTACAATAGATGTGTCAGCGTACCCTTTCATTAG...TGT', IUPACUnambiguousDNA()), Seq('CATTTTATGCCGAGGTTTGTGCAGTTCTGACACATTTTAACAATTTATGAAGCG...TGT', IUPACUnambiguousDNA()), Seq('CATTTTATGTCGAGGTTTGTGCAATTCTGACACATTTTAACAATTTATGAAGCG...GTT', IUPACUnambiguousDNA()), Seq('CATTTTATGTCGAGGTTTGTGCAATTCTGACACATTTTAACAATTTATGAAGCG...TGT', IUPACUnambiguousDNA()), Seq('CGTTTTATGCCGAGGTTTGTGCAATTCTGACACATTTTAACAATTTATGAAGCG...TGT', IUPACUnambiguousDNA()), Seq('CATTTTATGCCGAGGTTTGTGCAATTCTGACACATTTTAACAATTTATGAAGCG...TGT', IUPACUnambiguousDNA()), Seq('TACGATATAGTATAGTATAGTGTATAGTGTGTGTGTCCGCACATAACGGTATCC...TGT', IUPACUnambiguousDNA()), Seq('GATGCGGCACAGTGGAAAGCATACGGTCACAAATTGGCTAAAATAATTTAATCG...TGT', IUPACUnambiguousDNA()), Seq('GATGTGGCACAGTGGGGAAGCATACGGTCACAAATTGGATAAAATAATGCCATC...TGT', IUPACUnambiguousDNA()), Seq('GATGTGGCACAGTGGGGAAGCATTGGATAAAATAAAACATACGGTAGTTATAGT...TGT', IUPACUnambiguousDNA()), Seq('GATGTGGCACAGTGGGGAAGCATTGGATAAAATAAAACATACGGTAGTTATAGT...TGT', IUPACUnambiguousDNA()), Seq('GATGTGGCATAGTGTGGGGATGCATATGGTTACAGCTAAAATAAAATAATGGAT...TGT', IUPACUnambiguousDNA()), Seq('GATGTGGCACAGTGGGGAAGCATACATAAAAATTGCAATCGTCTAATTAGGTTC...TGT', IUPACUnambiguousDNA()), Seq('TATGCCGAGGTTTGTACAATTCTGACACATTTTAACAATTTATGAAGCGCTCAG...TGT', IUPACUnambiguousDNA()), Seq('GATGTGGCACAGTGGGAAAGAATACATACAAAATTGCAATCGTCTAAATATGTT...ATA', IUPACUnambiguousDNA()), Seq('CACTTTACGCCGAGGTTTGTGCAATTCTGACACATTTTAACAATTTATGAAGCG...TGT', IUPACUnambiguousDNA())]\n"
     ]
    }
   ],
   "source": [
    "print (raw_sequences_2)"
   ]
  },
  {
   "cell_type": "code",
   "execution_count": 106,
   "metadata": {
    "collapsed": true
   },
   "outputs": [],
   "source": [
    "pwm = motif.counts.normalize(pseudocounts=0.0)# Doesn't change from pwm\n",
    "pssm = pwm.log_odds()\n",
    "motif_length = len(motif) #for later retrival of nucleotide sequence"
   ]
  },
  {
   "cell_type": "code",
   "execution_count": 107,
   "metadata": {
    "collapsed": true
   },
   "outputs": [],
   "source": [
    "?motif.counts.normalize"
   ]
  },
  {
   "cell_type": "code",
   "execution_count": 108,
   "metadata": {
    "collapsed": false
   },
   "outputs": [
    {
     "name": "stdout",
     "output_type": "stream",
     "text": [
      "        0      1      2      3\n",
      "A:   0.09   0.73   0.40   0.32\n",
      "C:   0.08   0.15   0.20   0.63\n",
      "G:   0.41   0.08   0.20   0.03\n",
      "T:   0.42   0.04   0.20   0.02\n",
      "\n"
     ]
    }
   ],
   "source": [
    "print(pwm)"
   ]
  },
  {
   "cell_type": "code",
   "execution_count": 109,
   "metadata": {
    "collapsed": false
   },
   "outputs": [
    {
     "name": "stdout",
     "output_type": "stream",
     "text": [
      "        0      1      2      3\n",
      "A:  -1.50   1.55   0.68   0.37\n",
      "C:  -1.65  -0.70  -0.32   1.33\n",
      "G:   0.70  -1.70  -0.32  -2.88\n",
      "T:   0.76  -2.70  -0.32  -3.88\n",
      "\n"
     ]
    }
   ],
   "source": [
    "print(pssm)"
   ]
  },
  {
   "cell_type": "code",
   "execution_count": 110,
   "metadata": {
    "collapsed": false
   },
   "outputs": [
    {
     "name": "stdout",
     "output_type": "stream",
     "text": [
      "4\n"
     ]
    }
   ],
   "source": [
    "print(motif_length)"
   ]
  },
  {
   "cell_type": "code",
   "execution_count": 111,
   "metadata": {
    "collapsed": true
   },
   "outputs": [],
   "source": [
    "#what does pwm = motif.counts.normalize(pseudocounts=0.0) do? what does log_odds() do?"
   ]
  },
  {
   "cell_type": "code",
   "execution_count": 112,
   "metadata": {
    "collapsed": true
   },
   "outputs": [],
   "source": [
    "pssm_list = [ ]\n",
    "for seq in raw_sequences_2:\n",
    "    pssm_list.append(pssm.calculate(seq))"
   ]
  },
  {
   "cell_type": "code",
   "execution_count": 113,
   "metadata": {
    "collapsed": true
   },
   "outputs": [],
   "source": [
    "#print(pssm.calculate(raw_sequences_2[0]))"
   ]
  },
  {
   "cell_type": "code",
   "execution_count": 114,
   "metadata": {
    "collapsed": true
   },
   "outputs": [],
   "source": [
    "#print(raw_sequences_2[0])"
   ]
  },
  {
   "cell_type": "code",
   "execution_count": 115,
   "metadata": {
    "collapsed": true
   },
   "outputs": [],
   "source": [
    "## Approximate calculation of appropriate thresholds for motif finding \n",
    "## Patser Threshold\n",
    "## It selects such a threshold that the log(fpr)=-ic(M) \n",
    "#?????"
   ]
  },
  {
   "cell_type": "code",
   "execution_count": 116,
   "metadata": {
    "collapsed": true
   },
   "outputs": [],
   "source": [
    "distribution = pssm.distribution(background=motif.background, precision=10**4)\n",
    "patser_threshold = distribution.threshold_patser() #for use later\n",
    "\n",
    "## for sys.out\n",
    "#print(\"Patser Threshold is %5.3f\" % patser_threshold) # Calculates Paster threshold. \n"
   ]
  },
  {
   "cell_type": "code",
   "execution_count": 117,
   "metadata": {
    "collapsed": true
   },
   "outputs": [],
   "source": [
    "raw_id = []\n",
    "for seq in raw_sequences:\n",
    "    raw_id.append(seq.id)"
   ]
  },
  {
   "cell_type": "code",
   "execution_count": 118,
   "metadata": {
    "collapsed": true
   },
   "outputs": [],
   "source": [
    "record_length = []\n",
    "for record in raw_sequences_2:\n",
    "    record_length.append(len(record))"
   ]
  },
  {
   "cell_type": "code",
   "execution_count": 119,
   "metadata": {
    "collapsed": false
   },
   "outputs": [
    {
     "name": "stdout",
     "output_type": "stream",
     "text": [
      "GATGTGGCACAGTGGGGAGCCAAACAGTCACAAATTGGGTAAAGTAATGCAATCGTCTAATTATGTCTAATACAGAGCTGACTATATCACAAAGGGATGCTAGAGTGAGAGTGAATTGGTTGATCATGTTATGAGAGAATCAGAGGGATTTGTCTTTATTTTTTGACCAGAACTTATCGATTTTGTGGGGCTTCCATTGAAGATGGAAGAAACCGCGATTTAGAGTCTAGTGTATGAGTAGGCATGCCTAAAGCTAAATTCTGGTTTGTCGATCGGAAAATCTTTAATAAAAAGTGGATGCCTTATTTTATAATAGCAAATTGCATACCTCAAAAGGACTCAAAAGTCTTTACTATACAATAGTTTACAAAAATGCAACCATATTATACAAGGATACCTTCACATTAGCAATTTTTGTATTTAAAAGCTGATAATTTTTAAAGATATTTTTGAACAAGCTTTAAATTAAATTTTCTAGGAAAAGAACTTTGTCGATTAGTATTTTATTCGCAGTTTGATGTCGGACAACTGAATATAATTGGATCCATAGTAAAATCTGACTCACAAGCACCACAAAAAAGTGCCCTGTTATACACCCGTTAAGTTTCACTTTCCCTTACTTTTCTACATCATGTTTAAATATATTTTCCTTGCGCATTACAAATGTTCAATACACGTTATTTCTTTGCCCTTTCCACTTGCAGACTTGTCAGTTTACCTTTTGCATGCGTTTTTTTTTTTTTTACCATTTTATGCCAAGCTTTGTGCAGTTCTGACACATTTTAAAAATTTATGAAGCGTTCAGATATCCCTATACCCCATTCAGCCGATCAGAGCTTTGACAACTAAATTCAAAGCAATTCATACATCAGCTGGTGGGGTCGCGGCACACCAGAATTCACGCCAGTGATGAGATTCCCAGAGGTAGGTACTTGTGGGTTTTCACACAAATTATAACTGGCATTCAAGCTCTATGTGACTTGCTACGGAATTCCTTTGAATTTCACTTACAACCTAACTATAGAATGATCGAATCTAATTCGCTCCCTGCTTTACGACTTCCTTAATATTATTTCCTTACTAACTAATTATAATATAATTATAATATTATGTCCTTACTAACTAAATATAATATTTCTATGTATACAAGGTAAAATGGGAAATCGTCGAGCTTTATATTATCGAAAATTGCTCTAAAATGTCGAATTAAAAATGTTGGAATTGAAATCCTTAGATTTCTGTCTGTGGAATCGATGATAATTAAAGTTGGGAATTAAAATAGATTGTACCTAGGCAAGGATAAAGTGGCTCAAGCTACATATGTACTTTTGTACCCAGCAGGTACCTACATATGTATCACTTGTTCTCAGAAAGCTGCCCACCTGGCTTTTCACCTGTTTGGCATTGTGCGTGTGTCAAAGTGCGTGTTCGGTGTCGGCGACATTTGTATAGTACGATATGGCATAGTACAGTATGAAAGTGTGTGTCCGCATATAACGGTATCCGAGTCCGTGTCAGTTTCCCTGGCATTTGTCAGTTGCGCTTTGATAATTTCATGTTGTCCCAGTGGCCCCATGTGCGATTCAATAGAGAGTCTCTAGTTTATTCGCCTCAACTTCACCGCGGGATAAGTTTGATGGTTGGTTCGTTTCACTGGCTTGGGCCCGGGCCTGGTTGGGTTGGGTCAATTTAGCGGCCTGGCAGCAGAAATCGCCAGGTCTGCGAGTGATGAAAGGAGCGCGGAATAGTTTTATTTATTGTTCAACCTCAGGAGGTCAGTTCGTTGATCCATAACGCGTTACTTATGGCATTGCAAAGTCGAATAGTCGATAGACTTAATTGCCTTTCTGAAATTCAAGATATCGTAGAGACGCAATAGATATTTGGCCGAGAGTGCCGATTAGGTTATGTCATATTAGTAGTATTCCTATTGGAGGAGTTTTTATTGGAACAAAATTTGAAGCCAACTAGTGCAAATATTAAGGAAGGATTTTCAGATGTTTTCTTAAACTTAATGGAAATGCATATTATTACTTTCCATGTTAAACATTATTCAACTTACTGATCAAACACGAGGCGATATTTATCGGTTGCAACTGACTTGTTGTTTACAATATGTTTGTTAAAGGTTTTTTTTTATTAAAAGGTAATGTAATTCTCACACTAAATAATTTAAGATTGTTTCTTTCCATTTCGAAACTAGCTAGATTGGGTGTTACAAATAATTTTTTAAAATGTAATATATAAGTCCTATATTTCAAAAACGAAATAGCACTCCAATCGACAAAATTCAGCAATATAGGAAAAACACAAAATATTTAATGTGAAATCGGTCCGCAATTTTAAAAATTAAATTAATTAAAATTAAAATTGAAAATTATAGAAATACCTAGGAAGAAAAGGTGAAAAGAACTTAAGCGCGCATCTTCCTAATGCTCTTTCTCCTAAGCTTTACCTTTGATCGACTGAAAAAATAAAATAATATATTCTAAAAATGTAGAAATTCAGCCGGGACTCAAACTTACCATTTGCCGTTCAATATCCTTTTCTAGACATCTGAGACGGGTGCAAGAGTGATGCTTCCTTCTCCCCAAACTTATAAAATTAGGGTATTACCCAAAAATATATTTATAGCTTCAAATATTAAATTAAAAGGAGCCGTCAAAATAAATATTAACCTGGAGTCTGACATCCAATGACAACTCTGAGTCAACGACACACGGTATCAAAGCTTTTGGCACTGAAACTCAACCCAGGGAATAAAGGCTGAGATACTTTTGAACCGAAACATTAACGAAACGAAACGAAGTGCATAACAGCCGCCAACAAACATTCTCAGCCATCGACATTTTTTTGAAGTTGTATAAGTAAGTGTATATTTTTTCGTTTTTGTCTTTGCGTTAATTTATAGTCACTGATTGGGGCGTTATTCTTATTGATCCAGGCCATAAATTAAGAGAACCCCTGACTTGCCACATACATTACCGACATTTTAGCGTTTGATTTGTTATTTATCATACGAGCGTCAGAGCGAAAGAGACGCCGCCAGCGACCTGGGCAGCGGGAGCGTAAGAGAGGGCGCGAGCCCAATGACGATGGACGAATCTCGTCGCATCTGATCGGATCTCGGCTTCAGGCTTACCTGTAAAACTAGTTTCAATCTTTTTCTCCAACGTTTTCGTTCTTCGCTTTTAGCGCTCGGCTTGTTTTGTATTTTTTCTCGATTTTTTAATGATGAAATATACATTTTGAGTTTAATATATCAAACCGAATGGCGGGCAGGCGAATGTT\n"
     ]
    }
   ],
   "source": [
    "print (raw_sequences_2[0])"
   ]
  },
  {
   "cell_type": "code",
   "execution_count": 120,
   "metadata": {
    "collapsed": true
   },
   "outputs": [],
   "source": [
    "position_list = []\n",
    "## instead maybe for i in range(len(raw_id)) \n",
    "#maybe take an argument for the threshold\n",
    "for i in range(0,8): #number of gene sequences \n",
    "    for position, score in pssm.search(raw_sequences_2[i], threshold = patser_threshold):\n",
    "        positions = {'species': raw_id[i], 'score':score, 'position':position, 'seq_len': record_length[i] }\n",
    "        position_list.append(positions)"
   ]
  },
  {
   "cell_type": "code",
   "execution_count": 121,
   "metadata": {
    "collapsed": true
   },
   "outputs": [],
   "source": [
    "#for ____, _____ in ?\n",
    "#why range(0,8)?"
   ]
  },
  {
   "cell_type": "code",
   "execution_count": 122,
   "metadata": {
    "collapsed": false
   },
   "outputs": [
    {
     "name": "stdout",
     "output_type": "stream",
     "text": [
      "VT11157|1|MEMB002B|-|3291\n"
     ]
    }
   ],
   "source": [
    "print (raw_id[0])"
   ]
  },
  {
   "cell_type": "code",
   "execution_count": 123,
   "metadata": {
    "collapsed": true
   },
   "outputs": [],
   "source": [
    "position_DF = pd.DataFrame(position_list)"
   ]
  },
  {
   "cell_type": "code",
   "execution_count": 124,
   "metadata": {
    "collapsed": true
   },
   "outputs": [],
   "source": [
    "#print (pd.DataFrame(position_list))"
   ]
  },
  {
   "cell_type": "code",
   "execution_count": 125,
   "metadata": {
    "collapsed": true
   },
   "outputs": [],
   "source": [
    "#print (position_list)"
   ]
  },
  {
   "cell_type": "code",
   "execution_count": 126,
   "metadata": {
    "collapsed": true
   },
   "outputs": [],
   "source": [
    "#############################\n",
    "## Add strand and pos position information as columns to position_DF\n",
    "#############################\n",
    "\n",
    "position_list_pos = []\n",
    "for i, x in enumerate(position_DF['position']):\n",
    "    if x < 0:\n",
    "       position_list_pos.append(position_DF.loc[position_DF.index[i], 'seq_len'] + x)\n",
    "    else:\n",
    "       position_list_pos.append(x)\n",
    "\n"
   ]
  },
  {
   "cell_type": "code",
   "execution_count": 127,
   "metadata": {
    "collapsed": false
   },
   "outputs": [
    {
     "name": "stdout",
     "output_type": "stream",
     "text": [
      "-3289\n"
     ]
    }
   ],
   "source": [
    "print (position_DF['position'][1])"
   ]
  },
  {
   "cell_type": "code",
   "execution_count": 128,
   "metadata": {
    "collapsed": true
   },
   "outputs": [],
   "source": [
    "##what is position mean? why does it skip around instead of incrementing?\n",
    "##what is position_DF.loc[position_DF.index[0], 'seq_len']\n",
    "##how does one use DataFrames?\n",
    "##what does position_list_pos mean?"
   ]
  },
  {
   "cell_type": "code",
   "execution_count": 129,
   "metadata": {
    "collapsed": false
   },
   "outputs": [
    {
     "name": "stdout",
     "output_type": "stream",
     "text": [
      "3291\n"
     ]
    }
   ],
   "source": [
    "print (position_DF.loc[position_DF.index[0], 'seq_len'])"
   ]
  },
  {
   "cell_type": "code",
   "execution_count": 130,
   "metadata": {
    "collapsed": true
   },
   "outputs": [],
   "source": [
    "## append to position_DF\n",
    "position_DF['raw_position'] = position_list_pos\n",
    "    \n",
    "## strand Column\n",
    "strand = []\n",
    "for x in position_DF['position']:\n",
    "    if x < 0:\n",
    "       strand.append(\"negative\")\n",
    "    else:\n",
    "       strand.append(\"positive\")"
   ]
  },
  {
   "cell_type": "code",
   "execution_count": 131,
   "metadata": {
    "collapsed": true,
    "scrolled": true
   },
   "outputs": [],
   "source": [
    "    \n",
    "## append to position_DF\n",
    "position_DF['strand'] = strand\n",
    "\n",
    "## motif_found column\n",
    "raw_sequences_2_list = []"
   ]
  },
  {
   "cell_type": "code",
   "execution_count": 132,
   "metadata": {
    "collapsed": true
   },
   "outputs": [],
   "source": [
    "for seq in raw_sequences_2:\n",
    "    raw_sequences_2_list.append(str(seq))"
   ]
  },
  {
   "cell_type": "code",
   "execution_count": 133,
   "metadata": {
    "collapsed": false
   },
   "outputs": [
    {
     "name": "stdout",
     "output_type": "stream",
     "text": [
      "{'score': -0.19380836, 'position': -4, 'species': 13898}\n",
      "-0.19380836\n"
     ]
    }
   ],
   "source": [
    "##################\n",
    "## get alignment position \n",
    "#################\n",
    "\n",
    "remap_list = []\n",
    "nuc_list = ['A', 'a', 'G', 'g', 'C', 'c', 'T', 't', 'N', 'n']\n",
    "\n",
    "## Prepping for the loop below\n",
    "positions = {'score':score, 'position':position, 'species': i}\n",
    "position_list.append(positions)\n",
    "print (positions)\n",
    "print(score)"
   ]
  },
  {
   "cell_type": "code",
   "execution_count": 134,
   "metadata": {
    "collapsed": false
   },
   "outputs": [
    {
     "name": "stdout",
     "output_type": "stream",
     "text": [
      "-0.19380836\n"
     ]
    }
   ],
   "source": [
    "print(score)"
   ]
  },
  {
   "cell_type": "code",
   "execution_count": 135,
   "metadata": {
    "collapsed": true
   },
   "outputs": [],
   "source": [
    "#how are you using score if it was never deffined?"
   ]
  },
  {
   "cell_type": "code",
   "execution_count": 136,
   "metadata": {
    "collapsed": false
   },
   "outputs": [],
   "source": [
    "##use len... instead of 9 here\n",
    "##counter keeps track of where you are in new sequence \n",
    "##xInd keeps track of where you are in old sequence including dashes\n",
    "for i in range(0,9):\n",
    "    counter = 0\n",
    "    for xInd, x in enumerate(alignment[i].seq):    \n",
    "        #if not - instead of nuc_list?\n",
    "        if x in nuc_list:\n",
    "            remaps = {'raw_position': counter, 'align_position':xInd, 'species':alignment[i].id}\n",
    "            counter += 1\n",
    "            remap_list.append(remaps)\n",
    "            \n",
    "remap_DF = pd.DataFrame(remap_list)\n",
    "\n",
    "# print (remap_DF)\n",
    "##removes dashes\n",
    "##I thought you used a dictionary here for each 'word' instead of a loop?"
   ]
  },
  {
   "cell_type": "code",
   "execution_count": 137,
   "metadata": {
    "collapsed": false
   },
   "outputs": [
    {
     "name": "stdout",
     "output_type": "stream",
     "text": [
      "['A', 'a', 'G', 'g', 'C', 'c', 'T', 't', 'N', 'n']\n"
     ]
    }
   ],
   "source": [
    "print(nuc_list)"
   ]
  },
  {
   "cell_type": "code",
   "execution_count": 87,
   "metadata": {
    "collapsed": false
   },
   "outputs": [
    {
     "name": "stdout",
     "output_type": "stream",
     "text": [
      "       position     score  seq_len                    species  raw_position  \\\n",
      "0       -3291.0  0.902116   3291.0  VT11157|1|MEMB002B|-|3291             0   \n",
      "1       -3291.0  0.902116   3291.0  VT11157|1|MEMB002B|-|3291             0   \n",
      "2       -3289.0 -0.059410   3291.0  VT11157|1|MEMB002B|-|3291             2   \n",
      "3       -3289.0 -0.059410   3291.0  VT11157|1|MEMB002B|-|3291             2   \n",
      "4       -3288.0 -0.345811   3291.0  VT11157|1|MEMB002B|-|3291             3   \n",
      "5       -3288.0 -0.345811   3291.0  VT11157|1|MEMB002B|-|3291             3   \n",
      "6           4.0  0.069226   3291.0  VT11157|1|MEMB002B|-|3291             4   \n",
      "7           4.0  0.069226   3291.0  VT11157|1|MEMB002B|-|3291             4   \n",
      "8       -3287.0  0.046300   3291.0  VT11157|1|MEMB002B|-|3291             4   \n",
      "9       -3287.0  0.046300   3291.0  VT11157|1|MEMB002B|-|3291             4   \n",
      "10      -3286.0  0.069226   3291.0  VT11157|1|MEMB002B|-|3291             5   \n",
      "11      -3286.0  0.069226   3291.0  VT11157|1|MEMB002B|-|3291             5   \n",
      "12          6.0  2.007826   3291.0  VT11157|1|MEMB002B|-|3291             6   \n",
      "13          6.0  2.007826   3291.0  VT11157|1|MEMB002B|-|3291             6   \n",
      "14          7.0 -0.059410   3291.0  VT11157|1|MEMB002B|-|3291             7   \n",
      "15          7.0 -0.059410   3291.0  VT11157|1|MEMB002B|-|3291             7   \n",
      "16      -3280.0 -0.345811   3291.0  VT11157|1|MEMB002B|-|3291            11   \n",
      "17      -3280.0 -0.345811   3291.0  VT11157|1|MEMB002B|-|3291            11   \n",
      "18      -3277.0  1.069226   3291.0  VT11157|1|MEMB002B|-|3291            14   \n",
      "19      -3277.0  1.069226   3291.0  VT11157|1|MEMB002B|-|3291            14   \n",
      "20         16.0  3.255753   3291.0  VT11157|1|MEMB002B|-|3291            16   \n",
      "21         16.0  3.255753   3291.0  VT11157|1|MEMB002B|-|3291            16   \n",
      "22      -3275.0  1.007825   3291.0  VT11157|1|MEMB002B|-|3291            16   \n",
      "23      -3275.0  1.007825   3291.0  VT11157|1|MEMB002B|-|3291            16   \n",
      "24         18.0  0.046300   3291.0  VT11157|1|MEMB002B|-|3291            18   \n",
      "25         18.0  0.046300   3291.0  VT11157|1|MEMB002B|-|3291            18   \n",
      "26      -3273.0  0.069226   3291.0  VT11157|1|MEMB002B|-|3291            18   \n",
      "27      -3273.0  0.069226   3291.0  VT11157|1|MEMB002B|-|3291            18   \n",
      "28         20.0  0.940590   3291.0  VT11157|1|MEMB002B|-|3291            20   \n",
      "29         20.0  0.940590   3291.0  VT11157|1|MEMB002B|-|3291            20   \n",
      "...         ...       ...      ...                        ...           ...   \n",
      "62552       NaN       NaN      NaN  VT11157|1|MEMB007C|+|2823          2808   \n",
      "62553       NaN       NaN      NaN  VT11157|1|MEMB007C|+|2823          2808   \n",
      "62554       NaN       NaN      NaN  VT11157|1|MEMB007C|+|2823          2809   \n",
      "62555       NaN       NaN      NaN  VT11157|1|MEMB007C|+|2823          2809   \n",
      "62556       NaN       NaN      NaN  VT11157|1|MEMB007C|+|2823          2810   \n",
      "62557       NaN       NaN      NaN  VT11157|1|MEMB007C|+|2823          2810   \n",
      "62558       NaN       NaN      NaN  VT11157|1|MEMB007C|+|2823          2811   \n",
      "62559       NaN       NaN      NaN  VT11157|1|MEMB007C|+|2823          2811   \n",
      "62560       NaN       NaN      NaN  VT11157|1|MEMB007C|+|2823          2812   \n",
      "62561       NaN       NaN      NaN  VT11157|1|MEMB007C|+|2823          2812   \n",
      "62562       NaN       NaN      NaN  VT11157|1|MEMB007C|+|2823          2813   \n",
      "62563       NaN       NaN      NaN  VT11157|1|MEMB007C|+|2823          2813   \n",
      "62564       NaN       NaN      NaN  VT11157|1|MEMB007C|+|2823          2814   \n",
      "62565       NaN       NaN      NaN  VT11157|1|MEMB007C|+|2823          2814   \n",
      "62566       NaN       NaN      NaN  VT11157|1|MEMB007C|+|2823          2815   \n",
      "62567       NaN       NaN      NaN  VT11157|1|MEMB007C|+|2823          2815   \n",
      "62568       NaN       NaN      NaN  VT11157|1|MEMB007C|+|2823          2816   \n",
      "62569       NaN       NaN      NaN  VT11157|1|MEMB007C|+|2823          2816   \n",
      "62570       NaN       NaN      NaN  VT11157|1|MEMB007C|+|2823          2817   \n",
      "62571       NaN       NaN      NaN  VT11157|1|MEMB007C|+|2823          2817   \n",
      "62572       NaN       NaN      NaN  VT11157|1|MEMB007C|+|2823          2818   \n",
      "62573       NaN       NaN      NaN  VT11157|1|MEMB007C|+|2823          2818   \n",
      "62574       NaN       NaN      NaN  VT11157|1|MEMB007C|+|2823          2819   \n",
      "62575       NaN       NaN      NaN  VT11157|1|MEMB007C|+|2823          2819   \n",
      "62576       NaN       NaN      NaN  VT11157|1|MEMB007C|+|2823          2820   \n",
      "62577       NaN       NaN      NaN  VT11157|1|MEMB007C|+|2823          2820   \n",
      "62578       NaN       NaN      NaN  VT11157|1|MEMB007C|+|2823          2821   \n",
      "62579       NaN       NaN      NaN  VT11157|1|MEMB007C|+|2823          2821   \n",
      "62580       NaN       NaN      NaN  VT11157|1|MEMB007C|+|2823          2822   \n",
      "62581       NaN       NaN      NaN  VT11157|1|MEMB007C|+|2823          2822   \n",
      "\n",
      "         strand  align_position  \n",
      "0      negative               0  \n",
      "1      negative               0  \n",
      "2      negative               2  \n",
      "3      negative               2  \n",
      "4      negative               3  \n",
      "5      negative               3  \n",
      "6      positive               4  \n",
      "7      positive               4  \n",
      "8      negative               4  \n",
      "9      negative               4  \n",
      "10     negative               5  \n",
      "11     negative               5  \n",
      "12     positive               6  \n",
      "13     positive               6  \n",
      "14     positive               7  \n",
      "15     positive               7  \n",
      "16     negative              11  \n",
      "17     negative              11  \n",
      "18     negative              14  \n",
      "19     negative              14  \n",
      "20     positive              16  \n",
      "21     positive              16  \n",
      "22     negative              16  \n",
      "23     negative              16  \n",
      "24     positive              20  \n",
      "25     positive              20  \n",
      "26     negative              20  \n",
      "27     negative              20  \n",
      "28     positive              22  \n",
      "29     positive              22  \n",
      "...         ...             ...  \n",
      "62552       NaN            5771  \n",
      "62553       NaN            5771  \n",
      "62554       NaN            5772  \n",
      "62555       NaN            5772  \n",
      "62556       NaN            5773  \n",
      "62557       NaN            5773  \n",
      "62558       NaN            5774  \n",
      "62559       NaN            5774  \n",
      "62560       NaN            5775  \n",
      "62561       NaN            5775  \n",
      "62562       NaN            5776  \n",
      "62563       NaN            5776  \n",
      "62564       NaN            5777  \n",
      "62565       NaN            5777  \n",
      "62566       NaN            5778  \n",
      "62567       NaN            5778  \n",
      "62568       NaN            5779  \n",
      "62569       NaN            5779  \n",
      "62570       NaN            5780  \n",
      "62571       NaN            5780  \n",
      "62572       NaN            5781  \n",
      "62573       NaN            5781  \n",
      "62574       NaN            5782  \n",
      "62575       NaN            5782  \n",
      "62576       NaN            5783  \n",
      "62577       NaN            5783  \n",
      "62578       NaN            5784  \n",
      "62579       NaN            5784  \n",
      "62580       NaN            5785  \n",
      "62581       NaN            5785  \n",
      "\n",
      "[62582 rows x 7 columns]\n"
     ]
    }
   ],
   "source": [
    "\n",
    "## Merge both datasets\n",
    "## Merge - all sites\n",
    "## what does pd.merge do?? how does it do that with different length lists?\n",
    "\n",
    "#print(position_DF)\n",
    "#print(remap_DF)\n",
    "TFBS_map_DF_all = pd.merge(position_DF, remap_DF, on=['species', 'raw_position'], how='outer')\n",
    "print(TFBS_map_DF_all)"
   ]
  },
  {
   "cell_type": "code",
   "execution_count": 390,
   "metadata": {
    "collapsed": true
   },
   "outputs": [],
   "source": [
    "\n",
    "## Sort\n",
    "TFBS_map_DF_all = TFBS_map_DF_all.sort_values(by=['species','align_position'], ascending=[True, True])\n",
    "\n",
    "## Attach File Name\n",
    "TFBS_map_DF_all['alignment_file'] = alignment_file_name\n",
    "TFBS_map_DF_all['motif_file'] = motif_file_name\n",
    "\n",
    "## Remove NAs\n",
    "TFBS_map_DF_all = TFBS_map_DF_all.dropna()   \n",
    "\n",
    "\n",
    "## Write out Files\n",
    "TFBS_map_DF_all.to_csv('map_motif' + alignment_file_name + \"-\" + motif_file_name + \".csv\", sep='\\t', na_rep=\"NA\")"
   ]
  },
  {
   "cell_type": "code",
   "execution_count": null,
   "metadata": {
    "collapsed": true
   },
   "outputs": [],
   "source": []
  }
 ],
 "metadata": {
  "kernelspec": {
   "display_name": "Python 3",
   "language": "python",
   "name": "python3"
  },
  "language_info": {
   "codemirror_mode": {
    "name": "ipython",
    "version": 3
   },
   "file_extension": ".py",
   "mimetype": "text/x-python",
   "name": "python",
   "nbconvert_exporter": "python",
   "pygments_lexer": "ipython3",
   "version": "3.6.2"
  }
 },
 "nbformat": 4,
 "nbformat_minor": 2
}
